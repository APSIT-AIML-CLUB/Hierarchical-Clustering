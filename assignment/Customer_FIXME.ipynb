{
 "cells": [
  {
   "cell_type": "code",
   "execution_count": null,
   "id": "8ceedd51-8cfb-48f1-8fa2-0fd1b38cf18c",
   "metadata": {},
   "outputs": [],
   "source": [
    "import numpy as np\n",
    "import matplotlib.pyplot as plt\n",
    "import pandas as pd\n",
    "import seaborn as sns\n",
    "sns.set_style(\"darkgrid\")"
   ]
  },
  {
   "cell_type": "code",
   "execution_count": null,
   "id": "6b09571b-b070-4e0d-b693-bef6157589f5",
   "metadata": {},
   "outputs": [],
   "source": [
    "# Read the csv file into a dataframe\n",
    "df = pd.FIXME(FIXME)\n",
    "\n",
    "# Print out the first 5 rows of the dataframe\n",
    "df.FIXME()"
   ]
  },
  {
   "cell_type": "code",
   "execution_count": null,
   "id": "b567e033-74ff-40b2-bb42-37ccbb11a7c7",
   "metadata": {},
   "outputs": [],
   "source": [
    "# Use any of the 2 appropriate columns across which you want to visualize the clusters\n",
    "col1, col2 = FIXME, FIMXE\n",
    "X = df.iloc[:, [FIXME, FIXME]].values\n",
    "x_axis_column = df.columns[FIXME]\n",
    "y_axis_column = df.columns[FIXME]"
   ]
  },
  {
   "cell_type": "markdown",
   "id": "b4985750-c56c-4f50-96dd-ef1d2d6f2799",
   "metadata": {},
   "source": [
    "# 1. Hierarchical"
   ]
  },
  {
   "cell_type": "markdown",
   "id": "d48f8829-6035-4ad2-93db-c77e903afa65",
   "metadata": {},
   "source": [
    "## 1.1 Plot Silhouette scores and Dendrogram"
   ]
  },
  {
   "cell_type": "code",
   "execution_count": null,
   "id": "b6600c49-5a1e-433e-b64a-9ae32ce22f75",
   "metadata": {},
   "outputs": [],
   "source": [
    "from sklearn.cluster import AgglomerativeClustering\n",
    "from sklearn.metrics import silhouette_score\n",
    "\n",
    "silhouette_scores = []\n",
    "\n",
    "for i in range(FIXME, FIXME):  # silhouette score needs at least 2 clusters\n",
    "    hc = AgglomerativeClustering(n_clusters = FIXME, metric = 'FIXME', linkage = 'FIXME')\n",
    "    labels = hc.FIXME(X)\n",
    "    score = FIXME(FIXME, FIXME)\n",
    "\n",
    "    silhouette_scores.append(score)"
   ]
  },
  {
   "cell_type": "code",
   "execution_count": null,
   "id": "0f60a2d9-bada-4f3c-b68d-a0f19a739191",
   "metadata": {},
   "outputs": [],
   "source": [
    "# Plot the silhouette scores\n",
    "plt.plot(range(FIXME, FIXME), FIXME, marker='o', color='FIXME')\n",
    "plt.title('FIXME')\n",
    "plt.xlabel('FIXME')\n",
    "plt.ylabel('FIXME')\n",
    "plt.show()"
   ]
  },
  {
   "cell_type": "code",
   "execution_count": null,
   "id": "e01ff3da-1190-4d2b-87a6-865aebdac6fd",
   "metadata": {},
   "outputs": [],
   "source": [
    "import scipy.cluster.hierarchy as sch\n",
    "dendrogram = sch.FIXME(sch.FIXME(FIXME, method = 'FIXME'))\n",
    "plt.FIXME('FIXME') # Plot title\n",
    "plt.FIXME('FIXME') # X-axis naming\n",
    "plt.FIXME('FIXME') # Y-axis naming\n",
    "plt.FIXME(y=FIXME, color=\"black\", linestyle=\"FIXME\") # Horizontal dotted line\n",
    "plt.show()"
   ]
  },
  {
   "cell_type": "markdown",
   "id": "c18a6e61-608b-4305-bf3e-29cebad2c3f8",
   "metadata": {},
   "source": [
    "## 1.2 Train Hierarchical and Plot clusters"
   ]
  },
  {
   "cell_type": "code",
   "execution_count": null,
   "id": "2430f025-ef1b-4710-a30a-3a933d83d7a1",
   "metadata": {},
   "outputs": [],
   "source": [
    "from sklearn.cluster import AgglomerativeClustering\n",
    "# Use optimal number of clusters using the dendogram\n",
    "hc = FIXME(n_clusters = FIXME, metric = 'FIXME', linkage = 'FIXME')\n",
    "y_hc = hc.FIXME(FIXME)"
   ]
  },
  {
   "cell_type": "code",
   "execution_count": null,
   "id": "2deeff05-d2b1-41f0-a9cf-b7292ea0e315",
   "metadata": {},
   "outputs": [],
   "source": [
    "# Plot all the clusters\n",
    "\n",
    "# Syntax: (x-axis_value, y-axis_value, size, color, label)\n",
    "# s: size of dots, c: color of dots\n",
    "plt.FIXME(FIXME, FIXME, s = 30, c = 'FIXME', label = 'FIXME') # Cluster 1\n",
    "#\n",
    "#\n",
    "#\n",
    "# You need to figure out using the dendogram vertical line split method and silhouette scores what is optimal number of clusters\n",
    "plt.FIXME(FIXME, FIXME, s = 20, c = 'FIXME', label = 'FIXME') # Cluster n\n",
    "\n",
    "plt.FIXME('FIXME') # Plot title\n",
    "plt.FIXME('FIXME') # X-axis naming\n",
    "plt.FIXME('FIXME') # Y-axis naming\n",
    "plt.FIXME() # Plot the table (legend table)\n",
    "plt.show()"
   ]
  }
 ],
 "metadata": {
  "kernelspec": {
   "display_name": "Python 3 (ipykernel)",
   "language": "python",
   "name": "python3"
  },
  "language_info": {
   "codemirror_mode": {
    "name": "ipython",
    "version": 3
   },
   "file_extension": ".py",
   "mimetype": "text/x-python",
   "name": "python",
   "nbconvert_exporter": "python",
   "pygments_lexer": "ipython3",
   "version": "3.12.2"
  }
 },
 "nbformat": 4,
 "nbformat_minor": 5
}
